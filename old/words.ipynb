{
 "cells": [
  {
   "cell_type": "markdown",
   "metadata": {},
   "source": [
    "# front load words \n",
    "\n",
    "sudo code \n",
    "package "
   ]
  }
 ],
 "metadata": {
  "language_info": {
   "name": "python"
  }
 },
 "nbformat": 4,
 "nbformat_minor": 2
}
