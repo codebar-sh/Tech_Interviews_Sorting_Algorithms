{
 "cells": [
  {
   "cell_type": "code",
   "execution_count": 4,
   "metadata": {},
   "outputs": [
    {
     "name": "stdout",
     "output_type": "stream",
     "text": [
      "digraph {\n",
      "\tA [label=\"Introduction (5 min)\"]\n",
      "\tB [label=\"Tech Interviews Presentation (30 min)\"]\n",
      "\tC [label=\"Intro to Workshop (40 min)\"]\n",
      "\tD [label=\"Q&A (15 min)\"]\n",
      "\tE [label=\"Break (10 min)\"]\n",
      "\tF [label=\"Workshop with Q&A (75 min)\"]\n",
      "\tG [label=\"Closing Remarks (5 min)\"]\n",
      "\tA -> B [label=Introduction]\n",
      "\tB -> C [label=\"Key Concepts Presentation\"]\n",
      "\tC -> D [label=\"Workshop Introduction\"]\n",
      "\tD -> E [label=\"Question Session\"]\n",
      "\tE -> F [label=\"Hands-on Coding\"]\n",
      "\tF -> G [label=\"Final Remarks\"]\n",
      "}\n",
      "\n"
     ]
    }
   ],
   "source": [
    "from graphviz import Digraph\n",
    "\n",
    "# Create a directed graph\n",
    "dot = Digraph()\n",
    "\n",
    "# Define the nodes according to the actual timeline provided\n",
    "dot.node('A', 'Introduction (5 min)')\n",
    "dot.node('B', 'Tech Interviews Presentation (30 min)')\n",
    "dot.node('C', 'Intro to Workshop (40 min)')\n",
    "dot.node('D', 'Q&A (15 min)')\n",
    "dot.node('E', 'Break (10 min)')\n",
    "dot.node('F', 'Workshop with Q&A (75 min)')\n",
    "dot.node('G', 'Closing Remarks (5 min)')\n",
    "\n",
    "# Define the edges (connections) for the timeline\n",
    "dot.edge('A', 'B', label='Introduction')\n",
    "dot.edge('B', 'C', label='Key Concepts Presentation')\n",
    "dot.edge('C', 'D', label='Workshop Introduction')\n",
    "dot.edge('D', 'E', label='Question Session')\n",
    "dot.edge('E', 'F', label='Hands-on Coding')\n",
    "dot.edge('F', 'G', label='Final Remarks')\n",
    "\n",
    "# Render the graph and save it as a PNG\n",
    "dot.render('tech_interview_workshop_timeline', format='png')\n",
    "\n",
    "# Optional: Show the Graphviz source code in dot format\n",
    "print(dot.source)\n"
   ]
  }
 ],
 "metadata": {
  "kernelspec": {
   "display_name": "Python 3",
   "language": "python",
   "name": "python3"
  },
  "language_info": {
   "codemirror_mode": {
    "name": "ipython",
    "version": 3
   },
   "file_extension": ".py",
   "mimetype": "text/x-python",
   "name": "python",
   "nbconvert_exporter": "python",
   "pygments_lexer": "ipython3",
   "version": "3.12.4"
  }
 },
 "nbformat": 4,
 "nbformat_minor": 2
}
