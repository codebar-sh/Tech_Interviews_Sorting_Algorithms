{
 "cells": [
  {
   "cell_type": "markdown",
   "metadata": {},
   "source": [
    "# Interview Questions by Resource "
   ]
  },
  {
   "cell_type": "markdown",
   "metadata": {},
   "source": [
    "## Source: My notes from Data Structures Class at CU-Boulder \n",
    "\n",
    "1. Describe runtime complexity of a short passage of code. \n",
    "    a. Worst Case (Unbalanced Tree):\n",
    "    b. Average Case (Balanced Tree):\n",
    "\n",
    "Noted as important data structures: \n"
   ]
  }
 ],
 "metadata": {
  "language_info": {
   "name": "python"
  }
 },
 "nbformat": 4,
 "nbformat_minor": 2
}
