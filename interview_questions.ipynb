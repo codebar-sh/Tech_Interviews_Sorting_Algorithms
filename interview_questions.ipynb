{
 "cells": [
  {
   "cell_type": "markdown",
   "metadata": {},
   "source": [
    "# Interview Questions by Resource "
   ]
  },
  {
   "cell_type": "markdown",
   "metadata": {},
   "source": [
    "## Source: University of Colorado - Boulder studies Notes \n",
    "\n",
    "- Make \"fair game\" interview topics for programmers (and note on why I belived this is a fair game question all coding interviewies should know)\n",
    "\n",
    "These are notes based on my studies in the field on computer science at the University of Colorado - Boulder  \n",
    "\n",
    "1. Describe runtime complexity of a short passage of code. \n",
    "    a. Worst Case (Unbalanced Tree):\n",
    "    b. Average Case (Balanced Tree):\n",
    "\n",
    "Noted as important data structures: \n",
    "\n",
    "Notes and Infographics \n",
    "- How to learn new technologies quickly Notes \n",
    "- How to learn new technologies quickly infographic (only share infographic)"
   ]
  },
  {
   "cell_type": "markdown",
   "metadata": {},
   "source": [
    "## Source: Interviewers of Companies (People I met with who are or have worked as hiring management for coding positions)\n",
    "\n",
    "1. \n",
    "\n",
    "Notes and Infographics \n",
    "- Top Down Approach by (Hiring Manager, MA Computer Science)(only share infographic) (share and check with Eddy if this is okay)\n",
    "\n",
    "2. How to approach programming interview questions (see Top Down Infographic below)"
   ]
  },
  {
   "cell_type": "markdown",
   "metadata": {},
   "source": [
    "Top Down Approach for Coding Interviews (Notes): \n",
    "\n",
    "\n",
    "Steps: \n",
    "\n",
    "    1. Write sequence of data transfermations of the function input with functions that don't exist yet \n",
    "\n",
    "        a. example1: data pipeline \n",
    "\n",
    "        b. example2: write \"exicutable sudo code\" = functions which don't exist yet \n",
    "\n",
    "        c. Examples: (see video 1:10 - 2: 52)\n",
    "\n",
    "    2. Then implement the functions \n",
    "\n",
    "        a. example1: (see video 2:51 - 4:50)\n",
    "\n",
    "    3. Debugging \n",
    "        a. example1: (see video)\n",
    "\n",
    "Approach for presentation: \n",
    "\n",
    "1. introduce topic of coding interview plan and why you should have a plan for for the coding interview before you go in \n",
    "\n",
    "2. introduce method(s) (CCI vs. Top Down)\n",
    "\n",
    "3. Show video on both \n",
    "\n"
   ]
  },
  {
   "cell_type": "markdown",
   "metadata": {},
   "source": [
    "### Interviewer Questions \n",
    "\n",
    "0. Name / years in interviewing position / company or companies you worked as a hiring manager / roll as an interviewer (hr/ technical/upper management/etc.) and can I share some or all of this information with workshop attendees? \n",
    "\n",
    "1. About when was the interview (6 months ago )\n",
    "\n",
    "2. Waht were the phases of the interview process? \n",
    "\n",
    "3. What questions did you ask in each phose of the process?  \n",
    "\n",
    "4. What types of strengths are you looking for in a good candidate \n",
    "\n",
    "5. What types of weaknesses do you try to avoid in a candidate? \n",
    "\n",
    "6. What programming topics were assessed during the interviewing? \n",
    "\n",
    "7. What soft skills were assessed during interviewing? \n",
    "\n",
    "8. How did you identify candidate(s) as a good option for the position? \n",
    "\n",
    "9. I did the interview, and I got the job. What are your expectation for a new hire's first 100 days?\n",
    "\n",
    "10. What are your expectation for a new hire's first year?\n",
    "\n",
    "11. where is best place to find jobs and build new relationships \n"
   ]
  },
  {
   "cell_type": "markdown",
   "metadata": {},
   "source": [
    "#### Who am I interviewing? \n",
    "\n",
    "1. WeChat response\n",
    "2. David (Virtual Coffee) \n",
    "3. Michael (Coding Bar)\n",
    "4. Eddie (Virtual Coffee)"
   ]
  },
  {
   "cell_type": "markdown",
   "metadata": {},
   "source": [
    "## Coding Interview Book & Leet Code \n",
    "\n",
    "1. How to approach programming interview questions (see cracking coding interview Infographic below)\n",
    "\n",
    "Notes and Infographic \n",
    "- take notes on coding interview questions approach from book \n",
    "- make infographic based on notes "
   ]
  },
  {
   "cell_type": "markdown",
   "metadata": {},
   "source": [
    "### Interviewer Response \n",
    "\n",
    "Name: David A. \n",
    " Title: Senior Director working directly below CTO\n",
    "\n",
    "1. About when was the interview \n",
    "\n",
    "6 to 8 months ago\n",
    "\n",
    "2. What were the phases of the interview process? \n",
    "\n",
    "(2 - 3 interviews) (2 interviews for tech interview) plus 1 for hr maybe (usually 2 interviews sometimes 3)\n",
    "\n",
    "3 step interview as interviewee. pitch. 2 reference for the roll. He was being interviewed for the senior director position \n",
    "\n",
    "3. What questions did you ask in each phase of the process? \n",
    "\n",
    "interviewer: assess human skills more than tech skills. \n",
    "(introduce self and talk) - communicate and talk about self. more how they answer than what\n",
    " - pick 3 to 8 tech questions from resume. if technical details don't naturally emerge. direct follow up question will be asked. \n",
    " - can determine within 2 - 3 questions if they learned it or copied it from the someone else \n",
    " \"they have actually learned something... [have they] failed and succeeded\" \n",
    "\n",
    "Note for presentation: Model a good response and a bad response to talk about yourself to include technical information. How to talk about technical information. What is academic/ professional language. Understand the academic/professional words you use if using them. If not using them, be able to talk about code in a conversation for a long amount of time. \n",
    "\n",
    "4. What it looks like when: someone can code, but cannot use tech language, and visa versa (make a chart and highlight what hiring managers want to see)\n",
    "\n",
    "Interviewee: was being recruited and had skeptics in interview. Know that there will be both: 2 executives didn't know me and derisked myself. \n",
    "            remember: if you have gotten to be interviews, you need to de-risk yourself. Limit gamble for employers \n",
    "            \t\t\tTalk about how they learn \n",
    "            \t\t\tHow are you going to keep yourself aligned to the most up to date coding practices/ self learner \n",
    "\n",
    "5. What programming topics were assessed during the interviewing? \n",
    "\n",
    "- assess depth of tech experience on resume\n",
    "- entry level: no tech skills, only communication skills and self guided learner is assessed. \n",
    "\t\t\tBasic questions like: describe for me 2 language features. \n",
    "\t\t\tWhat was the last thing you learn about the language. more than 1 language: ask compare and contrast those languages \n",
    "   \t\t\tFollow up question: Do candidates need to use academic terms\n",
    "\t\t\t\t\t\t- Response: no - as long as they understand the terms that you are learned \n",
    "    \t\t\t\t\t\t- how deeply have they thought about the terms you are using \n",
    "    \t\t\t\t\t\t- Know the terms you use and have experience  to talk about \n",
    "    \t\t\t\t\t\tdepth of knowledge is better than lots of frameworks or languages <<<<<<<<Important >>>>>>>>\n",
    "    \t\t\t\t\t\tbe able to explain their code\n",
    "    \t\t\t\t\t\t- deliver something to show understanding \n",
    "\t\t\t\t\t\t- talk about code based on persal experience for a long time \n",
    "\n",
    "6. Do they have a degree? \n",
    "\t- not required and no certifications \n",
    "\n",
    "7. where is best place to find jobs and build new relationships \n",
    "\t- virtual coffee/ coding communities. User groups/ tech user groups / agile user groups / c# user groups / conferences \n",
    "\t- work in open source \n",
    "\n",
    "\n",
    "\n",
    "(Ask him this using the framework) What skill level of understanding should you be for the tech interview? \n",
    "\n",
    "- (Anticipated response)He cares more about being able to talk about a topic in depth. Learn and communicate through conversation "
   ]
  },
  {
   "cell_type": "markdown",
   "metadata": {},
   "source": [
    "### Interviewer Response \n",
    "\n",
    "Name: Eddie <br/>\n",
    "Title: UNKNOWN \n",
    "\n",
    "- Use Standard language library in interviews\n",
    "- Use doc string to lay out solution before coding (what are the inputs and what are the outputs)\n",
    "(To Do: give doc string template and infographic on how to good talking points) \n",
    "- Use \"top down\" programming \n",
    "- Idiomatic programming \n",
    "    - Dictionary comprehensive/ list comprehensive\n",
    "- Is trying an algorithm first then plugging into AI a good way to use AI to learn? \n",
    "    - yes, thats a good way to go about it\n"
   ]
  }
 ],
 "metadata": {
  "language_info": {
   "name": "python"
  }
 },
 "nbformat": 4,
 "nbformat_minor": 2
}
