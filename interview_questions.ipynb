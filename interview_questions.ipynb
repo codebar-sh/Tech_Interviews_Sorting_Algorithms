{
 "cells": [
  {
   "cell_type": "markdown",
   "metadata": {},
   "source": [
    "# Interview Questions by Resource "
   ]
  },
  {
   "cell_type": "markdown",
   "metadata": {},
   "source": [
    "## Source: University of Colorado - Boulder studies Notes \n",
    "\n",
    "- Make \"fair game\" interview topics for programmers (and note on why I belived this is a fair game question all coding interviewies should know)\n",
    "\n",
    "These are notes based on my studies in the field on computer science at the University of Colorado - Boulder  \n",
    "\n",
    "1. Describe runtime complexity of a short passage of code. \n",
    "    a. Worst Case (Unbalanced Tree):\n",
    "    b. Average Case (Balanced Tree):\n",
    "\n",
    "Noted as important data structures: \n",
    "\n",
    "Notes and Infographics \n",
    "- How to learn new technologies quickly Notes \n",
    "- How to learn new technologies quickly infographic (only share infographic)"
   ]
  },
  {
   "cell_type": "markdown",
   "metadata": {},
   "source": [
    "## Source: Interviewers of Companies (People I met with who are or have worked as hiring management for coding positions)\n",
    "\n",
    "1. \n",
    "\n",
    "Notes and Infographics \n",
    "- Top Down Approach by (Hiring Manager, MA Computer Science)(only share infographic) (share and check with Eddy if this is okay)\n",
    "\n",
    "2. How to approach programming interview questions (see Top Down Infographic below)"
   ]
  },
  {
   "cell_type": "markdown",
   "metadata": {},
   "source": [
    "Top Down Approach for Coding Interviews (Notes): \n",
    "\n",
    "\n",
    "Steps: \n",
    "\n",
    "    1. Write sequence of data transfermations of the function input with functions that don't exist yet \n",
    "\n",
    "        a. example1: data pipeline \n",
    "\n",
    "        b. example2: write \"exicutable sudo code\" = functions which don't exist yet \n",
    "\n",
    "        c. Examples: (see video 1:10 - 2: 52)\n",
    "\n",
    "    2. Then implement the functions \n",
    "\n",
    "        a. example1: (see video 2:51 - 4:50)\n",
    "\n",
    "    3. Debugging \n",
    "        a. example1: (see video)\n",
    "\n",
    "Approach for presentation: \n",
    "\n",
    "1. introduce topic of coding interview plan and why you should have a plan for for the coding interview before you go in \n",
    "\n",
    "2. introduce method(s) (CCI vs. Top Down)\n",
    "\n",
    "3. Show video on both \n",
    "\n"
   ]
  },
  {
   "cell_type": "markdown",
   "metadata": {},
   "source": [
    "## Coding Interview Book & Leet Code \n",
    "\n",
    "1. How to approach programming interview questions (see cracking coding interview Infographic below)\n",
    "\n",
    "Notes and Infographic \n",
    "- take notes on coding interview questions approach from book \n",
    "- make infographic based on notes "
   ]
  }
 ],
 "metadata": {
  "language_info": {
   "name": "python"
  }
 },
 "nbformat": 4,
 "nbformat_minor": 2
}
