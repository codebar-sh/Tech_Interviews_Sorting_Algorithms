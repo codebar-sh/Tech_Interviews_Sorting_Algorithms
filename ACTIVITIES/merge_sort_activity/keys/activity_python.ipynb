{
 "cells": [
  {
   "cell_type": "markdown",
   "metadata": {},
   "source": [
    "# Coding Merge Sort Algorithm "
   ]
  },
  {
   "cell_type": "markdown",
   "metadata": {},
   "source": [
    "1. Objective: Write code for merge sort algorithm based on sudo code "
   ]
  },
  {
   "cell_type": "markdown",
   "metadata": {},
   "source": [
    "## 2. Merge Sort Graphic HERE"
   ]
  },
  {
   "cell_type": "markdown",
   "metadata": {},
   "source": [
    "3. Introduction to Merge Sort (verbal description) & Sudo Code \n",
    "\n"
   ]
  },
  {
   "cell_type": "markdown",
   "metadata": {},
   "source": [
    "4. Merge Sort Package, implement the following functions: "
   ]
  },
  {
   "cell_type": "markdown",
   "metadata": {},
   "source": [
    "4(a) Write comments to understand the code written"
   ]
  },
  {
   "cell_type": "code",
   "execution_count": 4,
   "metadata": {},
   "outputs": [],
   "source": [
    "# COMMENT HERE\n",
    "def merge_sort(arr):\n",
    "    # COMMENT HERE\n",
    "    if len(arr) <= 1:\n",
    "        # COMMENT HERE\n",
    "        return arr\n",
    "\n",
    "    # COMMENT HERE\n",
    "    middle = len(arr) // 2\n",
    "    # COMMENT HERE\n",
    "    left_half = arr[:middle]\n",
    "    # COMMENT HERE\n",
    "    right_half = arr[middle:]\n",
    "\n",
    "    # COMMENT HERE\n",
    "    left_sorted = merge_sort(left_half)\n",
    "    # COMMENT HERE\n",
    "    right_sorted = merge_sort(right_half)\n",
    "\n",
    "    # COMMENT HERE\n",
    "    return merge(left_sorted, right_sorted)"
   ]
  },
  {
   "cell_type": "markdown",
   "metadata": {},
   "source": [
    "4(b) Write code based on the comments given "
   ]
  },
  {
   "cell_type": "code",
   "execution_count": 5,
   "metadata": {},
   "outputs": [],
   "source": [
    "def merge(left, right):\n",
    "    result = []\n",
    "    i = 0\n",
    "    j = 0\n",
    "\n",
    "    # Compare elements from both halves and append the smaller element to the result\n",
    "    while i < len(left) and j < len(right):\n",
    "        if left[i] <= right[j]:\n",
    "            result.append(left[i])\n",
    "            i += 1\n",
    "        else:\n",
    "            result.append(right[j])\n",
    "            j += 1\n",
    "\n",
    "    # If there are any remaining elements in the left half, append them\n",
    "    while i < len(left):\n",
    "        result.append(left[i])\n",
    "        i += 1\n",
    "\n",
    "    # If there are any remaining elements in the right half, append them\n",
    "    while j < len(right):\n",
    "        result.append(right[j])\n",
    "        j += 1\n",
    "\n",
    "    return result"
   ]
  },
  {
   "cell_type": "markdown",
   "metadata": {},
   "source": [
    "4(c) Run the below code and compare expected output with the given output "
   ]
  },
  {
   "cell_type": "code",
   "execution_count": 6,
   "metadata": {},
   "outputs": [
    {
     "name": "stdout",
     "output_type": "stream",
     "text": [
      "[1, 2, 3, 5]\n",
      "[0, 0, 1, 1, 2, 5]\n"
     ]
    }
   ],
   "source": [
    "# Example usage:\n",
    "nums = [5, 2, 3, 1]\n",
    "sorted_nums = merge_sort(nums)\n",
    "print(sorted_nums)  # Output: [1, 2, 3, 5]\n",
    "\n",
    "nums = [5, 1, 1, 2, 0, 0]\n",
    "sorted_nums = merge_sort(nums)\n",
    "print(sorted_nums)  # Output: [0, 0, 1, 1, 2, 5]"
   ]
  }
 ],
 "metadata": {
  "kernelspec": {
   "display_name": "Python 3",
   "language": "python",
   "name": "python3"
  },
  "language_info": {
   "codemirror_mode": {
    "name": "ipython",
    "version": 3
   },
   "file_extension": ".py",
   "mimetype": "text/x-python",
   "name": "python",
   "nbconvert_exporter": "python",
   "pygments_lexer": "ipython3",
   "version": "3.12.4"
  }
 },
 "nbformat": 4,
 "nbformat_minor": 2
}
