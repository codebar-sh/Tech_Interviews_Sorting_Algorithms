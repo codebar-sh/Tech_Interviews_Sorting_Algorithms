{
 "cells": [
  {
   "cell_type": "markdown",
   "metadata": {},
   "source": [
    "# Merge Sort Activity with Time Complexity and Space Complexity\n",
    "\n",
    "## Overview\n",
    "In this activity, you will explore the Merge Sort algorithm and compare its time and space complexity with other common sorting algorithms such as Quick Sort, Bubble Sort, and Insertion Sort. We will also graph the time complexity of these algorithms for different input sizes.\n",
    "\n",
    "### Learning Objectives:\n",
    "- Understand how Merge Sort works.\n",
    "- Calculate time and space complexity.\n",
    "- Compare the performance of Merge Sort with other sorting algorithms.\n",
    "- Visualize the time complexity using graphs."
   ]
  },
  {
   "cell_type": "markdown",
   "metadata": {},
   "source": [
    "## Step 1: Understanding the Merge Sort Algorithm\n",
    "\n",
    "Merge Sort is a recursive algorithm that follows these steps:\n",
    "\n",
    "1. If the list has 1 or 0 elements, it is already sorted.\n",
    "2. Split the list in half.\n",
    "3. Recursively sort each half.\n",
    "4. Merge the two sorted halves into one sorted list.\n",
    "\n",
    "Let's implement Merge Sort and analyze its time and space complexity.\n"
   ]
  },
  {
   "cell_type": "markdown",
   "metadata": {},
   "source": [
    "## Time Complexity of Merge Sort\n",
    "\n",
    "- In each recursive step, Merge Sort divides the array into two halves, which takes O(log n) steps.\n",
    "- The merging process takes O(n) time for each step.\n",
    "- Therefore, the time complexity of Merge Sort is O(n log n), where n is the number of elements in the list.\n",
    "\n",
    "### Recurrence Relation:\n",
    "T(n) = 2T(n/2) + O(n)\n",
    "\n",
    "Where T(n) represents the time complexity of Merge Sort, and the two recursive calls split the array in half.\n"
   ]
  },
  {
   "cell_type": "markdown",
   "metadata": {},
   "source": [
    "## Space Complexity of Merge Sort\n",
    "\n",
    "Merge Sort requires additional space to store the left and right halves during the merge process. The space complexity is:\n",
    "\n",
    "- **Space for recursion stack**: O(log n) due to the recursive calls.\n",
    "- **Space for temporary arrays**: O(n) to store the merged lists.\n",
    "\n",
    "Therefore, the total space complexity is O(n).\n"
   ]
  },
  {
   "cell_type": "markdown",
   "metadata": {},
   "source": [
    "## Time and Space Complexity Comparison with Other Sorting Algorithms\n",
    "\n",
    "Let's compare Merge Sort with other common sorting algorithms:\n",
    "\n",
    "| Algorithm        | Time Complexity (Best) | Time Complexity (Worst) | Time Complexity (Average) | Space Complexity |\n",
    "|------------------|------------------------|-------------------------|---------------------------|------------------|\n",
    "| **Merge Sort**    | O(n log n)             | O(n log n)              | O(n log n)                | O(n)             |\n",
    "| **Quick Sort**    | O(n log n)             | O(n^2)                  | O(n log n)                | O(log n)         |\n",
    "| **Bubble Sort**   | O(n)                   | O(n^2)                  | O(n^2)                    | O(1)             |\n",
    "| **Insertion Sort**| O(n)                   | O(n^2)                  | O(n^2)                    | O(1)             |\n",
    "\n",
    "Merge Sort is more efficient than Bubble Sort and Insertion Sort for larger lists, but it requires more space compared to Quick Sort.\n"
   ]
  },
  {
   "cell_type": "markdown",
   "metadata": {},
   "source": [
    "## Step 2: Visualizing Time Complexity\n",
    "\n",
    "We will now compare the performance of Merge Sort, Quick Sort, Bubble Sort, and Insertion Sort by graphing their execution time for different input sizes.\n",
    "\n",
    "The code below generates random lists of different sizes and measures the time taken by each algorithm to sort them.\n"
   ]
  },
  {
   "cell_type": "code",
   "execution_count": 2,
   "metadata": {},
   "outputs": [
    {
     "ename": "ModuleNotFoundError",
     "evalue": "No module named 'matplotlib'",
     "output_type": "error",
     "traceback": [
      "\u001b[0;31m---------------------------------------------------------------------------\u001b[0m",
      "\u001b[0;31mModuleNotFoundError\u001b[0m                       Traceback (most recent call last)",
      "Cell \u001b[0;32mIn[2], line 3\u001b[0m\n\u001b[1;32m      1\u001b[0m \u001b[38;5;28;01mimport\u001b[39;00m \u001b[38;5;21;01mrandom\u001b[39;00m\n\u001b[1;32m      2\u001b[0m \u001b[38;5;28;01mimport\u001b[39;00m \u001b[38;5;21;01mtime\u001b[39;00m\n\u001b[0;32m----> 3\u001b[0m \u001b[38;5;28;01mimport\u001b[39;00m \u001b[38;5;21;01mmatplotlib\u001b[39;00m\u001b[38;5;21;01m.\u001b[39;00m\u001b[38;5;21;01mpyplot\u001b[39;00m \u001b[38;5;28;01mas\u001b[39;00m \u001b[38;5;21;01mplt\u001b[39;00m\n\u001b[1;32m      5\u001b[0m \u001b[38;5;66;03m# Merge Sort Implementation\u001b[39;00m\n\u001b[1;32m      6\u001b[0m \u001b[38;5;28;01mdef\u001b[39;00m \u001b[38;5;21mmerge_sort\u001b[39m(arr):\n",
      "\u001b[0;31mModuleNotFoundError\u001b[0m: No module named 'matplotlib'"
     ]
    }
   ],
   "source": [
    "import random\n",
    "import time\n",
    "import matplotlib.pyplot as plt\n",
    "\n",
    "# Merge Sort Implementation\n",
    "def merge_sort(arr):\n",
    "    if len(arr) <= 1:\n",
    "        return arr\n",
    "    mid = len(arr) // 2\n",
    "    left_half = merge_sort(arr[:mid])\n",
    "    right_half = merge_sort(arr[mid:])\n",
    "    return merge(left_half, right_half)\n",
    "\n",
    "# Quick Sort Implementation\n",
    "def quick_sort(arr):\n",
    "    if len(arr) <= 1:\n",
    "        return arr\n",
    "    pivot = arr[len(arr) // 2]\n",
    "    left = [x for x in arr if x < pivot]\n",
    "    middle = [x for x in arr if x == pivot]\n",
    "    right = [x for x in arr if x > pivot]\n",
    "    return quick_sort(left) + middle + quick_sort(right)\n",
    "\n",
    "# Bubble Sort Implementation\n",
    "def bubble_sort(arr):\n",
    "    n = len(arr)\n",
    "    for i in range(n):\n",
    "        for j in range(0, n-i-1):\n",
    "            if arr[j] > arr[j+1]:\n",
    "                arr[j], arr[j+1] = arr[j+1], arr[j]\n",
    "    return arr\n",
    "\n",
    "# Insertion Sort Implementation\n",
    "def insertion_sort(arr):\n",
    "    for i in range(1, len(arr)):\n",
    "        key = arr[i]\n",
    "        j = i-1\n",
    "        while j >= 0 and key < arr[j]:\n",
    "            arr[j + 1] = arr[j]\n",
    "            j -= 1\n",
    "        arr[j + 1] = key\n",
    "    return arr\n"
   ]
  },
  {
   "cell_type": "code",
   "execution_count": null,
   "metadata": {},
   "outputs": [],
   "source": [
    "# Measure the time taken by each sorting algorithm for different input sizes\n",
    "input_sizes = [100, 500, 1000, 5000, 10000]\n",
    "merge_times = []\n",
    "quick_times = []\n",
    "bubble_times = []\n",
    "insertion_times = []\n",
    "\n",
    "for size in input_sizes:\n",
    "    # Generate a random list of the given size\n",
    "    random_list = random.sample(range(1, size*10), size)\n",
    "    \n",
    "    # Measure Merge Sort time\n",
    "    start_time = time.time()\n",
    "    merge_sort(random_list.copy())\n",
    "    merge_times.append(time.time() - start_time)\n",
    "    \n",
    "    # Measure Quick Sort time\n",
    "    start_time = time.time()\n",
    "    quick_sort(random_list.copy())\n",
    "    quick_times.append(time.time() - start_time)\n",
    "    \n",
    "    # Measure Bubble Sort time\n",
    "    start_time = time.time()\n",
    "    bubble_sort(random_list.copy())\n",
    "    bubble_times.append(time.time() - start_time)\n",
    "    \n",
    "    # Measure Insertion Sort time\n",
    "    start_time = time.time()\n",
    "    insertion_sort(random_list.copy())\n",
    "    insertion_times.append(time.time() - start_time)\n",
    "\n",
    "# Display the times recorded\n",
    "print(f\"Merge Sort times: {merge_times}\")\n",
    "print(f\"Quick Sort times: {quick_times}\")\n",
    "print(f\"Bubble Sort times: {bubble_times}\")\n",
    "print(f\"Insertion Sort times: {insertion_times}\")\n"
   ]
  },
  {
   "cell_type": "code",
   "execution_count": 1,
   "metadata": {},
   "outputs": [
    {
     "ename": "NameError",
     "evalue": "name 'plt' is not defined",
     "output_type": "error",
     "traceback": [
      "\u001b[0;31m---------------------------------------------------------------------------\u001b[0m",
      "\u001b[0;31mNameError\u001b[0m                                 Traceback (most recent call last)",
      "Cell \u001b[0;32mIn[1], line 2\u001b[0m\n\u001b[1;32m      1\u001b[0m \u001b[38;5;66;03m# Plotting the results\u001b[39;00m\n\u001b[0;32m----> 2\u001b[0m \u001b[43mplt\u001b[49m\u001b[38;5;241m.\u001b[39mfigure(figsize\u001b[38;5;241m=\u001b[39m(\u001b[38;5;241m10\u001b[39m, \u001b[38;5;241m6\u001b[39m))\n\u001b[1;32m      4\u001b[0m plt\u001b[38;5;241m.\u001b[39mplot(input_sizes, merge_times, label\u001b[38;5;241m=\u001b[39m\u001b[38;5;124m'\u001b[39m\u001b[38;5;124mMerge Sort\u001b[39m\u001b[38;5;124m'\u001b[39m, marker\u001b[38;5;241m=\u001b[39m\u001b[38;5;124m'\u001b[39m\u001b[38;5;124mo\u001b[39m\u001b[38;5;124m'\u001b[39m)\n\u001b[1;32m      5\u001b[0m plt\u001b[38;5;241m.\u001b[39mplot(input_sizes, quick_times, label\u001b[38;5;241m=\u001b[39m\u001b[38;5;124m'\u001b[39m\u001b[38;5;124mQuick Sort\u001b[39m\u001b[38;5;124m'\u001b[39m, marker\u001b[38;5;241m=\u001b[39m\u001b[38;5;124m'\u001b[39m\u001b[38;5;124mo\u001b[39m\u001b[38;5;124m'\u001b[39m)\n",
      "\u001b[0;31mNameError\u001b[0m: name 'plt' is not defined"
     ]
    }
   ],
   "source": [
    "# Plotting the results\n",
    "plt.figure(figsize=(10, 6))\n",
    "\n",
    "plt.plot(input_sizes, merge_times, label='Merge Sort', marker='o')\n",
    "plt.plot(input_sizes, quick_times, label='Quick Sort', marker='o')\n",
    "plt.plot(input_sizes, bubble_times, label='Bubble Sort', marker='o')\n",
    "plt.plot(input_sizes, insertion_times, label='Insertion Sort', marker='o')\n",
    "\n",
    "plt.title('Time Complexity of Sorting Algorithms')\n",
    "plt.xlabel('Input Size (n)')\n",
    "plt.ylabel('Time (seconds)')\n",
    "plt.legend()\n",
    "plt.grid(True)\n",
    "plt.show()\n"
   ]
  },
  {
   "cell_type": "markdown",
   "metadata": {},
   "source": [
    "## Exercise: Sorting Large Lists\n",
    "\n",
    "Now that you have compared different sorting algorithms, try increasing the size of the input list to 50,000 or 100,000. Measure the performance and analyze the difference in execution time between the algorithms.\n",
    "\n",
    "What happens to Bubble Sort and Insertion Sort as the list size increases?\n"
   ]
  },
  {
   "cell_type": "markdown",
   "metadata": {},
   "source": [
    "## Conclusion\n",
    "\n",
    "In this activity, you:\n",
    "- Learned how the Merge Sort algorithm works.\n",
    "- Implemented and calculated the time and space complexity of Merge Sort.\n",
    "- Compared the performance of Merge Sort with other common sorting algorithms like Quick Sort, Bubble Sort, and Insertion Sort.\n",
    "- Visualized the time complexity for different input sizes using graphs.\n",
    "\n",
    "Merge Sort is an efficient algorithm with a time complexity of O(n log n), making it suitable for larger datasets. However, it requires more space compared to in-place algorithms like Quick Sort.\n"
   ]
  }
 ],
 "metadata": {
  "kernelspec": {
   "display_name": "Python 3",
   "language": "python",
   "name": "python3"
  },
  "language_info": {
   "codemirror_mode": {
    "name": "ipython",
    "version": 3
   },
   "file_extension": ".py",
   "mimetype": "text/x-python",
   "name": "python",
   "nbconvert_exporter": "python",
   "pygments_lexer": "ipython3",
   "version": "3.12.4"
  }
 },
 "nbformat": 4,
 "nbformat_minor": 2
}
